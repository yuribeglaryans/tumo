{
 "cells": [
  {
   "cell_type": "markdown",
   "metadata": {
    "deletable": true,
    "editable": true
   },
   "source": [
    "# What are Numpy and Numpy arrays?"
   ]
  },
  {
   "cell_type": "markdown",
   "metadata": {
    "deletable": true,
    "editable": true
   },
   "source": [
    "Python objects\n",
    "\n",
    "*  high-level number objects: integers, floating point\n",
    "*  containers: lists (costless insertion and append), dictionaries (fast lookup)\n",
    "\n",
    "Numpy provides\n",
    "\n",
    "*  extension package to Python for multi-dimensional arrays\n",
    "*  closer to hardware (efficiency)\n",
    "*  designed for scientific computation (convenience)\n",
    "*  Also known as array oriented computing\n"
   ]
  },
  {
   "cell_type": "code",
   "execution_count": 1,
   "metadata": {
    "collapsed": false,
    "deletable": true,
    "editable": true
   },
   "outputs": [
    {
     "data": {
      "text/plain": [
       "array([0, 1, 2, 3])"
      ]
     },
     "execution_count": 1,
     "metadata": {},
     "output_type": "execute_result"
    }
   ],
   "source": [
    "import numpy as np\n",
    "a = np.array([0, 1, 2, 3])\n",
    "a"
   ]
  },
  {
   "cell_type": "code",
   "execution_count": 2,
   "metadata": {
    "collapsed": false,
    "deletable": true,
    "editable": true
   },
   "outputs": [
    {
     "data": {
      "text/plain": [
       "numpy.ndarray"
      ]
     },
     "execution_count": 2,
     "metadata": {},
     "output_type": "execute_result"
    }
   ],
   "source": [
    "type(a)"
   ]
  },
  {
   "cell_type": "code",
   "execution_count": null,
   "metadata": {
    "collapsed": true,
    "deletable": true,
    "editable": true
   },
   "outputs": [],
   "source": []
  },
  {
   "cell_type": "markdown",
   "metadata": {
    "deletable": true,
    "editable": true
   },
   "source": [
    "For example, An array containing:\n",
    "*  values of an experiment/simulation at discrete time steps\n",
    "*  signal recorded by a measurement device, e.g. sound wave\n",
    "*  pixels of an image, grey-level or colour\n",
    "*  3-D data measured at different X-Y-Z positions, e.g. MRI scan\n",
    "*  ...\n",
    "\n",
    "Why it is useful: Memory-efficient container that provides fast numerical operations."
   ]
  },
  {
   "cell_type": "code",
   "execution_count": 17,
   "metadata": {
    "collapsed": true,
    "deletable": true,
    "editable": true
   },
   "outputs": [],
   "source": [
    "L = range(1000)"
   ]
  },
  {
   "cell_type": "code",
   "execution_count": 18,
   "metadata": {
    "collapsed": false,
    "deletable": true,
    "editable": true
   },
   "outputs": [
    {
     "name": "stdout",
     "output_type": "stream",
     "text": [
      "The slowest run took 4.94 times longer than the fastest. This could mean that an intermediate result is being cached.\n",
      "1000 loops, best of 3: 364 µs per loop\n"
     ]
    }
   ],
   "source": [
    "%timeit [i**2 for i in L]"
   ]
  },
  {
   "cell_type": "code",
   "execution_count": 19,
   "metadata": {
    "collapsed": true,
    "deletable": true,
    "editable": true
   },
   "outputs": [],
   "source": [
    "a = np.arange(1000)"
   ]
  },
  {
   "cell_type": "code",
   "execution_count": 20,
   "metadata": {
    "collapsed": false,
    "deletable": true,
    "editable": true
   },
   "outputs": [
    {
     "name": "stdout",
     "output_type": "stream",
     "text": [
      "The slowest run took 16.22 times longer than the fastest. This could mean that an intermediate result is being cached.\n",
      "100000 loops, best of 3: 2.19 µs per loop\n"
     ]
    }
   ],
   "source": [
    "%timeit a**2"
   ]
  },
  {
   "cell_type": "code",
   "execution_count": 21,
   "metadata": {
    "collapsed": true,
    "deletable": true,
    "editable": true
   },
   "outputs": [],
   "source": [
    "np.array?"
   ]
  },
  {
   "cell_type": "code",
   "execution_count": 22,
   "metadata": {
    "collapsed": false,
    "deletable": true,
    "editable": true
   },
   "outputs": [
    {
     "name": "stdout",
     "output_type": "stream",
     "text": [
      "Search results for 'create array'\n",
      "---------------------------------\n",
      "numpy.array\n",
      "    Create an array.\n",
      "numpy.memmap\n",
      "    Create a memory-map to an array stored in a *binary* file on disk.\n",
      "numpy.diagflat\n",
      "    Create a two-dimensional array with the flattened input as a diagonal.\n",
      "numpy.fromiter\n",
      "    Create a new 1-dimensional array from an iterable object.\n",
      "numpy.partition\n",
      "    Return a partitioned copy of an array.\n",
      "numpy.ma.diagflat\n",
      "    Create a two-dimensional array with the flattened input as a diagonal.\n",
      "numpy.ctypeslib.as_array\n",
      "    Create a numpy array from a ctypes array or a ctypes POINTER.\n",
      "numpy.ma.make_mask\n",
      "    Create a boolean mask from an array.\n",
      "numpy.ctypeslib.as_ctypes\n",
      "    Create and return a ctypes object from a numpy array.  Actually\n",
      "numpy.ma.mrecords.fromarrays\n",
      "    Creates a mrecarray from a (flat) list of masked arrays.\n",
      "numpy.ma.mvoid.__new__\n",
      "    Create a new masked array from scratch.\n",
      "numpy.lib.format.open_memmap\n",
      "    Open a .npy file as a memory-mapped array.\n",
      "numpy.ma.MaskedArray.__new__\n",
      "    Create a new masked array from scratch.\n",
      "numpy.lib.arrayterator.Arrayterator\n",
      "    Buffered iterator for big arrays.\n",
      "numpy.ma.mrecords.fromtextfile\n",
      "    Creates a mrecarray from data stored in the file `filename`.\n",
      "numpy.asarray\n",
      "    Convert the input to an array.\n",
      "numpy.ndarray\n",
      "    ndarray(shape, dtype=float, buffer=None, offset=0,\n",
      "numpy.recarray\n",
      "    Construct an ndarray that allows field access using attributes.\n",
      "numpy.chararray\n",
      "    chararray(shape, itemsize=1, unicode=False, buffer=None, offset=0,\n",
      "numpy.pad\n",
      "    Pads an array.\n",
      "numpy.asanyarray\n",
      "    Convert the input to an ndarray, but pass ndarray subclasses through.\n",
      "numpy.copy\n",
      "    Return an array copy of the given object.\n",
      "numpy.diag\n",
      "    Extract a diagonal or construct a diagonal array.\n",
      "numpy.load\n",
      "    Load arrays or pickled objects from ``.npy``, ``.npz`` or pickled files.\n",
      "numpy.sort\n",
      "    Return a sorted copy of an array.\n",
      "numpy.array_equiv\n",
      "    Returns True if input arrays are shape consistent and all elements equal.\n",
      "numpy.dtype\n",
      "    Create a data type object.\n",
      "numpy.choose\n",
      "    Construct an array from an index array and a set of arrays to choose from.\n",
      "numpy.nditer\n",
      "    Efficient multi-dimensional iterator object to iterate over arrays.\n",
      "numpy.swapaxes\n",
      "    Interchange two axes of an array.\n",
      "numpy.ma.mrecords.MaskedRecords.__new__\n",
      "    Create a new masked array from scratch.\n",
      "numpy.full_like\n",
      "    Return a full array with the same shape and type as a given array.\n",
      "numpy.ones_like\n",
      "    Return an array of ones with the same shape and type as a given array.\n",
      "numpy.empty_like\n",
      "    Return a new array with the same shape and type as a given array.\n",
      "numpy.zeros_like\n",
      "    Return an array of zeros with the same shape and type as a given array.\n",
      "numpy.asarray_chkfinite\n",
      "    Convert the input to an array, checking for NaNs or Infs.\n",
      "numpy.diag_indices\n",
      "    Return the indices to access the main diagonal of an array.\n",
      "numpy.chararray.tolist\n",
      "    a.tolist()\n",
      "numpy.ma.choose\n",
      "    Use an index array to construct a new array from a set of choices.\n",
      "numpy.matlib.rand\n",
      "    Return a matrix of random values with given shape.\n",
      "numpy.savez_compressed\n",
      "    Save several arrays into a single file in compressed ``.npz`` format.\n",
      "numpy.ma.empty_like\n",
      "    Return a new array with the same shape and type as a given array.\n",
      "numpy.ma.make_mask_none\n",
      "    Return a boolean mask of the given shape, filled with False.\n",
      "numpy.ma.mrecords.fromrecords\n",
      "    Creates a MaskedRecords from a list of records.\n",
      "numpy.around\n",
      "    Evenly round to the given number of decimals.\n",
      "numpy.source\n",
      "    Print or write to a file the source code for a Numpy object.\n",
      "numpy.diagonal\n",
      "    Return specified diagonals.\n",
      "numpy.histogram2d\n",
      "    Compute the bi-dimensional histogram of two data samples.\n",
      "numpy.fft.ifft\n",
      "    Compute the one-dimensional inverse discrete Fourier Transform.\n",
      "numpy.fft.ifftn\n",
      "    Compute the N-dimensional inverse discrete Fourier Transform.\n",
      "numpy.busdaycalendar\n",
      "    A business day calendar object that efficiently stores information"
     ]
    }
   ],
   "source": [
    "np.lookfor('create array')"
   ]
  },
  {
   "cell_type": "code",
   "execution_count": 23,
   "metadata": {
    "collapsed": true,
    "deletable": true,
    "editable": true
   },
   "outputs": [],
   "source": [
    "import numpy as np"
   ]
  },
  {
   "cell_type": "markdown",
   "metadata": {
    "deletable": true,
    "editable": true
   },
   "source": [
    "# Array Creation"
   ]
  },
  {
   "cell_type": "code",
   "execution_count": 24,
   "metadata": {
    "collapsed": true,
    "deletable": true,
    "editable": true
   },
   "outputs": [],
   "source": [
    "a = np.array([0, 1, 2, 3])"
   ]
  },
  {
   "cell_type": "code",
   "execution_count": 25,
   "metadata": {
    "collapsed": false,
    "deletable": true,
    "editable": true
   },
   "outputs": [
    {
     "data": {
      "text/plain": [
       "1"
      ]
     },
     "execution_count": 25,
     "metadata": {},
     "output_type": "execute_result"
    }
   ],
   "source": [
    "a.ndim"
   ]
  },
  {
   "cell_type": "code",
   "execution_count": 26,
   "metadata": {
    "collapsed": false,
    "deletable": true,
    "editable": true
   },
   "outputs": [
    {
     "data": {
      "text/plain": [
       "(4,)"
      ]
     },
     "execution_count": 26,
     "metadata": {},
     "output_type": "execute_result"
    }
   ],
   "source": [
    "a.shape"
   ]
  },
  {
   "cell_type": "code",
   "execution_count": 27,
   "metadata": {
    "collapsed": false,
    "deletable": true,
    "editable": true
   },
   "outputs": [
    {
     "data": {
      "text/plain": [
       "4"
      ]
     },
     "execution_count": 27,
     "metadata": {},
     "output_type": "execute_result"
    }
   ],
   "source": [
    "len(a)"
   ]
  },
  {
   "cell_type": "code",
   "execution_count": 28,
   "metadata": {
    "collapsed": true,
    "deletable": true,
    "editable": true
   },
   "outputs": [],
   "source": [
    "b = np.array([[0, 1, 2], [3, 4, 5]])"
   ]
  },
  {
   "cell_type": "code",
   "execution_count": 29,
   "metadata": {
    "collapsed": false,
    "deletable": true,
    "editable": true
   },
   "outputs": [
    {
     "data": {
      "text/plain": [
       "(array([[0, 1, 2],\n",
       "        [3, 4, 5]]), 2, (2, 3), 2)"
      ]
     },
     "execution_count": 29,
     "metadata": {},
     "output_type": "execute_result"
    }
   ],
   "source": [
    "b, b.ndim, b.shape, len(b)"
   ]
  },
  {
   "cell_type": "code",
   "execution_count": 30,
   "metadata": {
    "collapsed": false,
    "deletable": true,
    "editable": true
   },
   "outputs": [
    {
     "data": {
      "text/plain": [
       "array([0, 1, 2, 3, 4, 5, 6, 7, 8, 9])"
      ]
     },
     "execution_count": 30,
     "metadata": {},
     "output_type": "execute_result"
    }
   ],
   "source": [
    "a = np.arange(10)\n",
    "a"
   ]
  },
  {
   "cell_type": "code",
   "execution_count": 31,
   "metadata": {
    "collapsed": false,
    "deletable": true,
    "editable": true
   },
   "outputs": [
    {
     "data": {
      "text/plain": [
       "array([1, 3, 5, 7])"
      ]
     },
     "execution_count": 31,
     "metadata": {},
     "output_type": "execute_result"
    }
   ],
   "source": [
    "b = np.arange(1, 9, 2)\n",
    "b"
   ]
  },
  {
   "cell_type": "code",
   "execution_count": 32,
   "metadata": {
    "collapsed": false,
    "deletable": true,
    "editable": true
   },
   "outputs": [
    {
     "data": {
      "text/plain": [
       "numpy.ndarray"
      ]
     },
     "execution_count": 32,
     "metadata": {},
     "output_type": "execute_result"
    }
   ],
   "source": [
    "type(b)"
   ]
  },
  {
   "cell_type": "code",
   "execution_count": 34,
   "metadata": {
    "collapsed": false,
    "deletable": true,
    "editable": true
   },
   "outputs": [
    {
     "data": {
      "text/plain": [
       "dtype('int64')"
      ]
     },
     "execution_count": 34,
     "metadata": {},
     "output_type": "execute_result"
    }
   ],
   "source": [
    "b.dtype"
   ]
  },
  {
   "cell_type": "raw",
   "metadata": {
    "deletable": true,
    "editable": true
   },
   "source": [
    "a = np.array(0, 1, 2, 3)   # WRONG\n",
    "a = np.array([0, 1, 2, 3]) # RIGHT "
   ]
  },
  {
   "cell_type": "code",
   "execution_count": 36,
   "metadata": {
    "collapsed": false,
    "deletable": true,
    "editable": true
   },
   "outputs": [
    {
     "data": {
      "text/plain": [
       "array([ 0.        ,  0.002002  ,  0.004004  ,  0.00600601,  0.00800801,\n",
       "        0.01001001,  0.01201201,  0.01401401,  0.01601602,  0.01801802,\n",
       "        0.02002002,  0.02202202,  0.02402402,  0.02602603,  0.02802803,\n",
       "        0.03003003,  0.03203203,  0.03403403,  0.03603604,  0.03803804,\n",
       "        0.04004004,  0.04204204,  0.04404404,  0.04604605,  0.04804805,\n",
       "        0.05005005,  0.05205205,  0.05405405,  0.05605606,  0.05805806,\n",
       "        0.06006006,  0.06206206,  0.06406406,  0.06606607,  0.06806807,\n",
       "        0.07007007,  0.07207207,  0.07407407,  0.07607608,  0.07807808,\n",
       "        0.08008008,  0.08208208,  0.08408408,  0.08608609,  0.08808809,\n",
       "        0.09009009,  0.09209209,  0.09409409,  0.0960961 ,  0.0980981 ,\n",
       "        0.1001001 ,  0.1021021 ,  0.1041041 ,  0.10610611,  0.10810811,\n",
       "        0.11011011,  0.11211211,  0.11411411,  0.11611612,  0.11811812,\n",
       "        0.12012012,  0.12212212,  0.12412412,  0.12612613,  0.12812813,\n",
       "        0.13013013,  0.13213213,  0.13413413,  0.13613614,  0.13813814,\n",
       "        0.14014014,  0.14214214,  0.14414414,  0.14614615,  0.14814815,\n",
       "        0.15015015,  0.15215215,  0.15415415,  0.15615616,  0.15815816,\n",
       "        0.16016016,  0.16216216,  0.16416416,  0.16616617,  0.16816817,\n",
       "        0.17017017,  0.17217217,  0.17417417,  0.17617618,  0.17817818,\n",
       "        0.18018018,  0.18218218,  0.18418418,  0.18618619,  0.18818819,\n",
       "        0.19019019,  0.19219219,  0.19419419,  0.1961962 ,  0.1981982 ,\n",
       "        0.2002002 ,  0.2022022 ,  0.2042042 ,  0.20620621,  0.20820821,\n",
       "        0.21021021,  0.21221221,  0.21421421,  0.21621622,  0.21821822,\n",
       "        0.22022022,  0.22222222,  0.22422422,  0.22622623,  0.22822823,\n",
       "        0.23023023,  0.23223223,  0.23423423,  0.23623624,  0.23823824,\n",
       "        0.24024024,  0.24224224,  0.24424424,  0.24624625,  0.24824825,\n",
       "        0.25025025,  0.25225225,  0.25425425,  0.25625626,  0.25825826,\n",
       "        0.26026026,  0.26226226,  0.26426426,  0.26626627,  0.26826827,\n",
       "        0.27027027,  0.27227227,  0.27427427,  0.27627628,  0.27827828,\n",
       "        0.28028028,  0.28228228,  0.28428428,  0.28628629,  0.28828829,\n",
       "        0.29029029,  0.29229229,  0.29429429,  0.2962963 ,  0.2982983 ,\n",
       "        0.3003003 ,  0.3023023 ,  0.3043043 ,  0.30630631,  0.30830831,\n",
       "        0.31031031,  0.31231231,  0.31431431,  0.31631632,  0.31831832,\n",
       "        0.32032032,  0.32232232,  0.32432432,  0.32632633,  0.32832833,\n",
       "        0.33033033,  0.33233233,  0.33433433,  0.33633634,  0.33833834,\n",
       "        0.34034034,  0.34234234,  0.34434434,  0.34634635,  0.34834835,\n",
       "        0.35035035,  0.35235235,  0.35435435,  0.35635636,  0.35835836,\n",
       "        0.36036036,  0.36236236,  0.36436436,  0.36636637,  0.36836837,\n",
       "        0.37037037,  0.37237237,  0.37437437,  0.37637638,  0.37837838,\n",
       "        0.38038038,  0.38238238,  0.38438438,  0.38638639,  0.38838839,\n",
       "        0.39039039,  0.39239239,  0.39439439,  0.3963964 ,  0.3983984 ,\n",
       "        0.4004004 ,  0.4024024 ,  0.4044044 ,  0.40640641,  0.40840841,\n",
       "        0.41041041,  0.41241241,  0.41441441,  0.41641642,  0.41841842,\n",
       "        0.42042042,  0.42242242,  0.42442442,  0.42642643,  0.42842843,\n",
       "        0.43043043,  0.43243243,  0.43443443,  0.43643644,  0.43843844,\n",
       "        0.44044044,  0.44244244,  0.44444444,  0.44644645,  0.44844845,\n",
       "        0.45045045,  0.45245245,  0.45445445,  0.45645646,  0.45845846,\n",
       "        0.46046046,  0.46246246,  0.46446446,  0.46646647,  0.46846847,\n",
       "        0.47047047,  0.47247247,  0.47447447,  0.47647648,  0.47847848,\n",
       "        0.48048048,  0.48248248,  0.48448448,  0.48648649,  0.48848849,\n",
       "        0.49049049,  0.49249249,  0.49449449,  0.4964965 ,  0.4984985 ,\n",
       "        0.5005005 ,  0.5025025 ,  0.5045045 ,  0.50650651,  0.50850851,\n",
       "        0.51051051,  0.51251251,  0.51451451,  0.51651652,  0.51851852,\n",
       "        0.52052052,  0.52252252,  0.52452452,  0.52652653,  0.52852853,\n",
       "        0.53053053,  0.53253253,  0.53453453,  0.53653654,  0.53853854,\n",
       "        0.54054054,  0.54254254,  0.54454454,  0.54654655,  0.54854855,\n",
       "        0.55055055,  0.55255255,  0.55455455,  0.55655656,  0.55855856,\n",
       "        0.56056056,  0.56256256,  0.56456456,  0.56656657,  0.56856857,\n",
       "        0.57057057,  0.57257257,  0.57457457,  0.57657658,  0.57857858,\n",
       "        0.58058058,  0.58258258,  0.58458458,  0.58658659,  0.58858859,\n",
       "        0.59059059,  0.59259259,  0.59459459,  0.5965966 ,  0.5985986 ,\n",
       "        0.6006006 ,  0.6026026 ,  0.6046046 ,  0.60660661,  0.60860861,\n",
       "        0.61061061,  0.61261261,  0.61461461,  0.61661662,  0.61861862,\n",
       "        0.62062062,  0.62262262,  0.62462462,  0.62662663,  0.62862863,\n",
       "        0.63063063,  0.63263263,  0.63463463,  0.63663664,  0.63863864,\n",
       "        0.64064064,  0.64264264,  0.64464464,  0.64664665,  0.64864865,\n",
       "        0.65065065,  0.65265265,  0.65465465,  0.65665666,  0.65865866,\n",
       "        0.66066066,  0.66266266,  0.66466466,  0.66666667,  0.66866867,\n",
       "        0.67067067,  0.67267267,  0.67467467,  0.67667668,  0.67867868,\n",
       "        0.68068068,  0.68268268,  0.68468468,  0.68668669,  0.68868869,\n",
       "        0.69069069,  0.69269269,  0.69469469,  0.6966967 ,  0.6986987 ,\n",
       "        0.7007007 ,  0.7027027 ,  0.7047047 ,  0.70670671,  0.70870871,\n",
       "        0.71071071,  0.71271271,  0.71471471,  0.71671672,  0.71871872,\n",
       "        0.72072072,  0.72272272,  0.72472472,  0.72672673,  0.72872873,\n",
       "        0.73073073,  0.73273273,  0.73473473,  0.73673674,  0.73873874,\n",
       "        0.74074074,  0.74274274,  0.74474474,  0.74674675,  0.74874875,\n",
       "        0.75075075,  0.75275275,  0.75475475,  0.75675676,  0.75875876,\n",
       "        0.76076076,  0.76276276,  0.76476476,  0.76676677,  0.76876877,\n",
       "        0.77077077,  0.77277277,  0.77477477,  0.77677678,  0.77877878,\n",
       "        0.78078078,  0.78278278,  0.78478478,  0.78678679,  0.78878879,\n",
       "        0.79079079,  0.79279279,  0.79479479,  0.7967968 ,  0.7987988 ,\n",
       "        0.8008008 ,  0.8028028 ,  0.8048048 ,  0.80680681,  0.80880881,\n",
       "        0.81081081,  0.81281281,  0.81481481,  0.81681682,  0.81881882,\n",
       "        0.82082082,  0.82282282,  0.82482482,  0.82682683,  0.82882883,\n",
       "        0.83083083,  0.83283283,  0.83483483,  0.83683684,  0.83883884,\n",
       "        0.84084084,  0.84284284,  0.84484484,  0.84684685,  0.84884885,\n",
       "        0.85085085,  0.85285285,  0.85485485,  0.85685686,  0.85885886,\n",
       "        0.86086086,  0.86286286,  0.86486486,  0.86686687,  0.86886887,\n",
       "        0.87087087,  0.87287287,  0.87487487,  0.87687688,  0.87887888,\n",
       "        0.88088088,  0.88288288,  0.88488488,  0.88688689,  0.88888889,\n",
       "        0.89089089,  0.89289289,  0.89489489,  0.8968969 ,  0.8988989 ,\n",
       "        0.9009009 ,  0.9029029 ,  0.9049049 ,  0.90690691,  0.90890891,\n",
       "        0.91091091,  0.91291291,  0.91491491,  0.91691692,  0.91891892,\n",
       "        0.92092092,  0.92292292,  0.92492492,  0.92692693,  0.92892893,\n",
       "        0.93093093,  0.93293293,  0.93493493,  0.93693694,  0.93893894,\n",
       "        0.94094094,  0.94294294,  0.94494494,  0.94694695,  0.94894895,\n",
       "        0.95095095,  0.95295295,  0.95495495,  0.95695696,  0.95895896,\n",
       "        0.96096096,  0.96296296,  0.96496496,  0.96696697,  0.96896897,\n",
       "        0.97097097,  0.97297297,  0.97497497,  0.97697698,  0.97897898,\n",
       "        0.98098098,  0.98298298,  0.98498498,  0.98698699,  0.98898899,\n",
       "        0.99099099,  0.99299299,  0.99499499,  0.996997  ,  0.998999  ,\n",
       "        1.001001  ,  1.003003  ,  1.00500501,  1.00700701,  1.00900901,\n",
       "        1.01101101,  1.01301301,  1.01501502,  1.01701702,  1.01901902,\n",
       "        1.02102102,  1.02302302,  1.02502503,  1.02702703,  1.02902903,\n",
       "        1.03103103,  1.03303303,  1.03503504,  1.03703704,  1.03903904,\n",
       "        1.04104104,  1.04304304,  1.04504505,  1.04704705,  1.04904905,\n",
       "        1.05105105,  1.05305305,  1.05505506,  1.05705706,  1.05905906,\n",
       "        1.06106106,  1.06306306,  1.06506507,  1.06706707,  1.06906907,\n",
       "        1.07107107,  1.07307307,  1.07507508,  1.07707708,  1.07907908,\n",
       "        1.08108108,  1.08308308,  1.08508509,  1.08708709,  1.08908909,\n",
       "        1.09109109,  1.09309309,  1.0950951 ,  1.0970971 ,  1.0990991 ,\n",
       "        1.1011011 ,  1.1031031 ,  1.10510511,  1.10710711,  1.10910911,\n",
       "        1.11111111,  1.11311311,  1.11511512,  1.11711712,  1.11911912,\n",
       "        1.12112112,  1.12312312,  1.12512513,  1.12712713,  1.12912913,\n",
       "        1.13113113,  1.13313313,  1.13513514,  1.13713714,  1.13913914,\n",
       "        1.14114114,  1.14314314,  1.14514515,  1.14714715,  1.14914915,\n",
       "        1.15115115,  1.15315315,  1.15515516,  1.15715716,  1.15915916,\n",
       "        1.16116116,  1.16316316,  1.16516517,  1.16716717,  1.16916917,\n",
       "        1.17117117,  1.17317317,  1.17517518,  1.17717718,  1.17917918,\n",
       "        1.18118118,  1.18318318,  1.18518519,  1.18718719,  1.18918919,\n",
       "        1.19119119,  1.19319319,  1.1951952 ,  1.1971972 ,  1.1991992 ,\n",
       "        1.2012012 ,  1.2032032 ,  1.20520521,  1.20720721,  1.20920921,\n",
       "        1.21121121,  1.21321321,  1.21521522,  1.21721722,  1.21921922,\n",
       "        1.22122122,  1.22322322,  1.22522523,  1.22722723,  1.22922923,\n",
       "        1.23123123,  1.23323323,  1.23523524,  1.23723724,  1.23923924,\n",
       "        1.24124124,  1.24324324,  1.24524525,  1.24724725,  1.24924925,\n",
       "        1.25125125,  1.25325325,  1.25525526,  1.25725726,  1.25925926,\n",
       "        1.26126126,  1.26326326,  1.26526527,  1.26726727,  1.26926927,\n",
       "        1.27127127,  1.27327327,  1.27527528,  1.27727728,  1.27927928,\n",
       "        1.28128128,  1.28328328,  1.28528529,  1.28728729,  1.28928929,\n",
       "        1.29129129,  1.29329329,  1.2952953 ,  1.2972973 ,  1.2992993 ,\n",
       "        1.3013013 ,  1.3033033 ,  1.30530531,  1.30730731,  1.30930931,\n",
       "        1.31131131,  1.31331331,  1.31531532,  1.31731732,  1.31931932,\n",
       "        1.32132132,  1.32332332,  1.32532533,  1.32732733,  1.32932933,\n",
       "        1.33133133,  1.33333333,  1.33533534,  1.33733734,  1.33933934,\n",
       "        1.34134134,  1.34334334,  1.34534535,  1.34734735,  1.34934935,\n",
       "        1.35135135,  1.35335335,  1.35535536,  1.35735736,  1.35935936,\n",
       "        1.36136136,  1.36336336,  1.36536537,  1.36736737,  1.36936937,\n",
       "        1.37137137,  1.37337337,  1.37537538,  1.37737738,  1.37937938,\n",
       "        1.38138138,  1.38338338,  1.38538539,  1.38738739,  1.38938939,\n",
       "        1.39139139,  1.39339339,  1.3953954 ,  1.3973974 ,  1.3993994 ,\n",
       "        1.4014014 ,  1.4034034 ,  1.40540541,  1.40740741,  1.40940941,\n",
       "        1.41141141,  1.41341341,  1.41541542,  1.41741742,  1.41941942,\n",
       "        1.42142142,  1.42342342,  1.42542543,  1.42742743,  1.42942943,\n",
       "        1.43143143,  1.43343343,  1.43543544,  1.43743744,  1.43943944,\n",
       "        1.44144144,  1.44344344,  1.44544545,  1.44744745,  1.44944945,\n",
       "        1.45145145,  1.45345345,  1.45545546,  1.45745746,  1.45945946,\n",
       "        1.46146146,  1.46346346,  1.46546547,  1.46746747,  1.46946947,\n",
       "        1.47147147,  1.47347347,  1.47547548,  1.47747748,  1.47947948,\n",
       "        1.48148148,  1.48348348,  1.48548549,  1.48748749,  1.48948949,\n",
       "        1.49149149,  1.49349349,  1.4954955 ,  1.4974975 ,  1.4994995 ,\n",
       "        1.5015015 ,  1.5035035 ,  1.50550551,  1.50750751,  1.50950951,\n",
       "        1.51151151,  1.51351351,  1.51551552,  1.51751752,  1.51951952,\n",
       "        1.52152152,  1.52352352,  1.52552553,  1.52752753,  1.52952953,\n",
       "        1.53153153,  1.53353353,  1.53553554,  1.53753754,  1.53953954,\n",
       "        1.54154154,  1.54354354,  1.54554555,  1.54754755,  1.54954955,\n",
       "        1.55155155,  1.55355355,  1.55555556,  1.55755756,  1.55955956,\n",
       "        1.56156156,  1.56356356,  1.56556557,  1.56756757,  1.56956957,\n",
       "        1.57157157,  1.57357357,  1.57557558,  1.57757758,  1.57957958,\n",
       "        1.58158158,  1.58358358,  1.58558559,  1.58758759,  1.58958959,\n",
       "        1.59159159,  1.59359359,  1.5955956 ,  1.5975976 ,  1.5995996 ,\n",
       "        1.6016016 ,  1.6036036 ,  1.60560561,  1.60760761,  1.60960961,\n",
       "        1.61161161,  1.61361361,  1.61561562,  1.61761762,  1.61961962,\n",
       "        1.62162162,  1.62362362,  1.62562563,  1.62762763,  1.62962963,\n",
       "        1.63163163,  1.63363363,  1.63563564,  1.63763764,  1.63963964,\n",
       "        1.64164164,  1.64364364,  1.64564565,  1.64764765,  1.64964965,\n",
       "        1.65165165,  1.65365365,  1.65565566,  1.65765766,  1.65965966,\n",
       "        1.66166166,  1.66366366,  1.66566567,  1.66766767,  1.66966967,\n",
       "        1.67167167,  1.67367367,  1.67567568,  1.67767768,  1.67967968,\n",
       "        1.68168168,  1.68368368,  1.68568569,  1.68768769,  1.68968969,\n",
       "        1.69169169,  1.69369369,  1.6956957 ,  1.6976977 ,  1.6996997 ,\n",
       "        1.7017017 ,  1.7037037 ,  1.70570571,  1.70770771,  1.70970971,\n",
       "        1.71171171,  1.71371371,  1.71571572,  1.71771772,  1.71971972,\n",
       "        1.72172172,  1.72372372,  1.72572573,  1.72772773,  1.72972973,\n",
       "        1.73173173,  1.73373373,  1.73573574,  1.73773774,  1.73973974,\n",
       "        1.74174174,  1.74374374,  1.74574575,  1.74774775,  1.74974975,\n",
       "        1.75175175,  1.75375375,  1.75575576,  1.75775776,  1.75975976,\n",
       "        1.76176176,  1.76376376,  1.76576577,  1.76776777,  1.76976977,\n",
       "        1.77177177,  1.77377377,  1.77577578,  1.77777778,  1.77977978,\n",
       "        1.78178178,  1.78378378,  1.78578579,  1.78778779,  1.78978979,\n",
       "        1.79179179,  1.79379379,  1.7957958 ,  1.7977978 ,  1.7997998 ,\n",
       "        1.8018018 ,  1.8038038 ,  1.80580581,  1.80780781,  1.80980981,\n",
       "        1.81181181,  1.81381381,  1.81581582,  1.81781782,  1.81981982,\n",
       "        1.82182182,  1.82382382,  1.82582583,  1.82782783,  1.82982983,\n",
       "        1.83183183,  1.83383383,  1.83583584,  1.83783784,  1.83983984,\n",
       "        1.84184184,  1.84384384,  1.84584585,  1.84784785,  1.84984985,\n",
       "        1.85185185,  1.85385385,  1.85585586,  1.85785786,  1.85985986,\n",
       "        1.86186186,  1.86386386,  1.86586587,  1.86786787,  1.86986987,\n",
       "        1.87187187,  1.87387387,  1.87587588,  1.87787788,  1.87987988,\n",
       "        1.88188188,  1.88388388,  1.88588589,  1.88788789,  1.88988989,\n",
       "        1.89189189,  1.89389389,  1.8958959 ,  1.8978979 ,  1.8998999 ,\n",
       "        1.9019019 ,  1.9039039 ,  1.90590591,  1.90790791,  1.90990991,\n",
       "        1.91191191,  1.91391391,  1.91591592,  1.91791792,  1.91991992,\n",
       "        1.92192192,  1.92392392,  1.92592593,  1.92792793,  1.92992993,\n",
       "        1.93193193,  1.93393393,  1.93593594,  1.93793794,  1.93993994,\n",
       "        1.94194194,  1.94394394,  1.94594595,  1.94794795,  1.94994995,\n",
       "        1.95195195,  1.95395395,  1.95595596,  1.95795796,  1.95995996,\n",
       "        1.96196196,  1.96396396,  1.96596597,  1.96796797,  1.96996997,\n",
       "        1.97197197,  1.97397397,  1.97597598,  1.97797798,  1.97997998,\n",
       "        1.98198198,  1.98398398,  1.98598599,  1.98798799,  1.98998999,\n",
       "        1.99199199,  1.99399399,  1.995996  ,  1.997998  ,  2.        ])"
      ]
     },
     "execution_count": 36,
     "metadata": {},
     "output_type": "execute_result"
    }
   ],
   "source": [
    "from numpy import pi\n",
    "np.linspace( 0, 2, 1000 )                 # 9 numbers from 0 to 2"
   ]
  },
  {
   "cell_type": "code",
   "execution_count": 37,
   "metadata": {
    "collapsed": true,
    "deletable": true,
    "editable": true
   },
   "outputs": [],
   "source": [
    "x = np.linspace( 0, 2*pi, 100 )        # useful to evaluate function at lots of points\n",
    "f = np.sin(x)"
   ]
  },
  {
   "cell_type": "code",
   "execution_count": 19,
   "metadata": {
    "collapsed": false,
    "deletable": true,
    "editable": true
   },
   "outputs": [
    {
     "data": {
      "text/plain": [
       "array([ 0.        ,  0.06346652,  0.12693304,  0.19039955,  0.25386607,\n",
       "        0.31733259,  0.38079911,  0.44426563,  0.50773215,  0.57119866,\n",
       "        0.63466518,  0.6981317 ,  0.76159822,  0.82506474,  0.88853126,\n",
       "        0.95199777,  1.01546429,  1.07893081,  1.14239733,  1.20586385,\n",
       "        1.26933037,  1.33279688,  1.3962634 ,  1.45972992,  1.52319644,\n",
       "        1.58666296,  1.65012947,  1.71359599,  1.77706251,  1.84052903,\n",
       "        1.90399555,  1.96746207,  2.03092858,  2.0943951 ,  2.15786162,\n",
       "        2.22132814,  2.28479466,  2.34826118,  2.41172769,  2.47519421,\n",
       "        2.53866073,  2.60212725,  2.66559377,  2.72906028,  2.7925268 ,\n",
       "        2.85599332,  2.91945984,  2.98292636,  3.04639288,  3.10985939,\n",
       "        3.17332591,  3.23679243,  3.30025895,  3.36372547,  3.42719199,\n",
       "        3.4906585 ,  3.55412502,  3.61759154,  3.68105806,  3.74452458,\n",
       "        3.8079911 ,  3.87145761,  3.93492413,  3.99839065,  4.06185717,\n",
       "        4.12532369,  4.1887902 ,  4.25225672,  4.31572324,  4.37918976,\n",
       "        4.44265628,  4.5061228 ,  4.56958931,  4.63305583,  4.69652235,\n",
       "        4.75998887,  4.82345539,  4.88692191,  4.95038842,  5.01385494,\n",
       "        5.07732146,  5.14078798,  5.2042545 ,  5.26772102,  5.33118753,\n",
       "        5.39465405,  5.45812057,  5.52158709,  5.58505361,  5.64852012,\n",
       "        5.71198664,  5.77545316,  5.83891968,  5.9023862 ,  5.96585272,\n",
       "        6.02931923,  6.09278575,  6.15625227,  6.21971879,  6.28318531])"
      ]
     },
     "execution_count": 19,
     "metadata": {},
     "output_type": "execute_result"
    }
   ],
   "source": [
    "x"
   ]
  },
  {
   "cell_type": "code",
   "execution_count": null,
   "metadata": {
    "collapsed": false,
    "deletable": true,
    "editable": true
   },
   "outputs": [],
   "source": [
    "f"
   ]
  },
  {
   "cell_type": "code",
   "execution_count": 38,
   "metadata": {
    "collapsed": false,
    "deletable": true,
    "editable": true
   },
   "outputs": [
    {
     "name": "stdout",
     "output_type": "stream",
     "text": [
      "[ 0.          0.06346652  0.12693304  0.19039955  0.25386607  0.31733259\n",
      "  0.38079911  0.44426563  0.50773215  0.57119866  0.63466518  0.6981317\n",
      "  0.76159822  0.82506474  0.88853126  0.95199777  1.01546429  1.07893081\n",
      "  1.14239733  1.20586385  1.26933037  1.33279688  1.3962634   1.45972992\n",
      "  1.52319644  1.58666296  1.65012947  1.71359599  1.77706251  1.84052903\n",
      "  1.90399555  1.96746207  2.03092858  2.0943951   2.15786162  2.22132814\n",
      "  2.28479466  2.34826118  2.41172769  2.47519421  2.53866073  2.60212725\n",
      "  2.66559377  2.72906028  2.7925268   2.85599332  2.91945984  2.98292636\n",
      "  3.04639288  3.10985939  3.17332591  3.23679243  3.30025895  3.36372547\n",
      "  3.42719199  3.4906585   3.55412502  3.61759154  3.68105806  3.74452458\n",
      "  3.8079911   3.87145761  3.93492413  3.99839065  4.06185717  4.12532369\n",
      "  4.1887902   4.25225672  4.31572324  4.37918976  4.44265628  4.5061228\n",
      "  4.56958931  4.63305583  4.69652235  4.75998887  4.82345539  4.88692191\n",
      "  4.95038842  5.01385494  5.07732146  5.14078798  5.2042545   5.26772102\n",
      "  5.33118753  5.39465405  5.45812057  5.52158709  5.58505361  5.64852012\n",
      "  5.71198664  5.77545316  5.83891968  5.9023862   5.96585272  6.02931923\n",
      "  6.09278575  6.15625227  6.21971879  6.28318531]\n"
     ]
    }
   ],
   "source": [
    "print(x)"
   ]
  },
  {
   "cell_type": "code",
   "execution_count": 39,
   "metadata": {
    "collapsed": false,
    "deletable": true,
    "editable": true
   },
   "outputs": [
    {
     "name": "stdout",
     "output_type": "stream",
     "text": [
      "[  0.00000000e+00   6.34239197e-02   1.26592454e-01   1.89251244e-01\n",
      "   2.51147987e-01   3.12033446e-01   3.71662456e-01   4.29794912e-01\n",
      "   4.86196736e-01   5.40640817e-01   5.92907929e-01   6.42787610e-01\n",
      "   6.90079011e-01   7.34591709e-01   7.76146464e-01   8.14575952e-01\n",
      "   8.49725430e-01   8.81453363e-01   9.09631995e-01   9.34147860e-01\n",
      "   9.54902241e-01   9.71811568e-01   9.84807753e-01   9.93838464e-01\n",
      "   9.98867339e-01   9.99874128e-01   9.96854776e-01   9.89821442e-01\n",
      "   9.78802446e-01   9.63842159e-01   9.45000819e-01   9.22354294e-01\n",
      "   8.95993774e-01   8.66025404e-01   8.32569855e-01   7.95761841e-01\n",
      "   7.55749574e-01   7.12694171e-01   6.66769001e-01   6.18158986e-01\n",
      "   5.67059864e-01   5.13677392e-01   4.58226522e-01   4.00930535e-01\n",
      "   3.42020143e-01   2.81732557e-01   2.20310533e-01   1.58001396e-01\n",
      "   9.50560433e-02   3.17279335e-02  -3.17279335e-02  -9.50560433e-02\n",
      "  -1.58001396e-01  -2.20310533e-01  -2.81732557e-01  -3.42020143e-01\n",
      "  -4.00930535e-01  -4.58226522e-01  -5.13677392e-01  -5.67059864e-01\n",
      "  -6.18158986e-01  -6.66769001e-01  -7.12694171e-01  -7.55749574e-01\n",
      "  -7.95761841e-01  -8.32569855e-01  -8.66025404e-01  -8.95993774e-01\n",
      "  -9.22354294e-01  -9.45000819e-01  -9.63842159e-01  -9.78802446e-01\n",
      "  -9.89821442e-01  -9.96854776e-01  -9.99874128e-01  -9.98867339e-01\n",
      "  -9.93838464e-01  -9.84807753e-01  -9.71811568e-01  -9.54902241e-01\n",
      "  -9.34147860e-01  -9.09631995e-01  -8.81453363e-01  -8.49725430e-01\n",
      "  -8.14575952e-01  -7.76146464e-01  -7.34591709e-01  -6.90079011e-01\n",
      "  -6.42787610e-01  -5.92907929e-01  -5.40640817e-01  -4.86196736e-01\n",
      "  -4.29794912e-01  -3.71662456e-01  -3.12033446e-01  -2.51147987e-01\n",
      "  -1.89251244e-01  -1.26592454e-01  -6.34239197e-02  -2.44929360e-16]\n"
     ]
    }
   ],
   "source": [
    "print(f)"
   ]
  },
  {
   "cell_type": "code",
   "execution_count": 60,
   "metadata": {
    "collapsed": false,
    "deletable": true,
    "editable": true
   },
   "outputs": [
    {
     "name": "stdout",
     "output_type": "stream",
     "text": [
      "[0 1 2 3 4 5]\n"
     ]
    }
   ],
   "source": [
    "a = np.arange(6) # 1d array\n",
    "print(a)"
   ]
  },
  {
   "cell_type": "code",
   "execution_count": 61,
   "metadata": {
    "collapsed": false,
    "deletable": true,
    "editable": true
   },
   "outputs": [
    {
     "name": "stdout",
     "output_type": "stream",
     "text": [
      "[[ 0  1  2]\n",
      " [ 3  4  5]\n",
      " [ 6  7  8]\n",
      " [ 9 10 11]]\n"
     ]
    }
   ],
   "source": [
    "b = np.arange(12).reshape(4,3)           # 2d array\n",
    "print(b)"
   ]
  },
  {
   "cell_type": "code",
   "execution_count": 62,
   "metadata": {
    "collapsed": false,
    "deletable": true,
    "editable": true
   },
   "outputs": [
    {
     "name": "stdout",
     "output_type": "stream",
     "text": [
      "[[[ 0  1  2  3]\n",
      "  [ 4  5  6  7]\n",
      "  [ 8  9 10 11]]\n",
      "\n",
      " [[12 13 14 15]\n",
      "  [16 17 18 19]\n",
      "  [20 21 22 23]]]\n"
     ]
    }
   ],
   "source": [
    "c = np.arange(24).reshape(2,3,4)         # 3d array\n",
    "print(c)"
   ]
  },
  {
   "cell_type": "markdown",
   "metadata": {
    "deletable": true,
    "editable": true
   },
   "source": [
    "If an array is too large to be printed, NumPy automatically skips the central part of the array and only prints the corners:"
   ]
  },
  {
   "cell_type": "code",
   "execution_count": 74,
   "metadata": {
    "collapsed": false,
    "deletable": true,
    "editable": true
   },
   "outputs": [
    {
     "name": "stdout",
     "output_type": "stream",
     "text": [
      "[   0    1    2 ..., 9997 9998 9999]\n"
     ]
    }
   ],
   "source": [
    "d = np.arange(10000)\n",
    "print(d)"
   ]
  },
  {
   "cell_type": "code",
   "execution_count": 75,
   "metadata": {
    "collapsed": false,
    "deletable": true,
    "editable": true
   },
   "outputs": [
    {
     "name": "stdout",
     "output_type": "stream",
     "text": [
      "[[   0    1    2 ...,   97   98   99]\n",
      " [ 100  101  102 ...,  197  198  199]\n",
      " [ 200  201  202 ...,  297  298  299]\n",
      " ..., \n",
      " [9700 9701 9702 ..., 9797 9798 9799]\n",
      " [9800 9801 9802 ..., 9897 9898 9899]\n",
      " [9900 9901 9902 ..., 9997 9998 9999]]\n"
     ]
    }
   ],
   "source": [
    "e = d.reshape(100,100)\n",
    "print(e)"
   ]
  },
  {
   "cell_type": "markdown",
   "metadata": {
    "deletable": true,
    "editable": true
   },
   "source": [
    "# Basic Operations"
   ]
  },
  {
   "cell_type": "markdown",
   "metadata": {
    "deletable": true,
    "editable": true
   },
   "source": [
    "Arithmetic operators on arrays apply elementwise. \n",
    "A new array is created and filled with the result."
   ]
  },
  {
   "cell_type": "code",
   "execution_count": 26,
   "metadata": {
    "collapsed": false,
    "deletable": true,
    "editable": true
   },
   "outputs": [
    {
     "data": {
      "text/plain": [
       "(array([20, 30, 40, 50]), array([0, 1, 2, 3]))"
      ]
     },
     "execution_count": 26,
     "metadata": {},
     "output_type": "execute_result"
    }
   ],
   "source": [
    "a = np.array( [20,30,40,50] )\n",
    "b = np.arange( 4 )\n",
    "a, b"
   ]
  },
  {
   "cell_type": "code",
   "execution_count": 27,
   "metadata": {
    "collapsed": false,
    "deletable": true,
    "editable": true
   },
   "outputs": [
    {
     "data": {
      "text/plain": [
       "array([20, 29, 38, 47])"
      ]
     },
     "execution_count": 27,
     "metadata": {},
     "output_type": "execute_result"
    }
   ],
   "source": [
    "c = a-b\n",
    "c"
   ]
  },
  {
   "cell_type": "code",
   "execution_count": 28,
   "metadata": {
    "collapsed": false,
    "deletable": true,
    "editable": true
   },
   "outputs": [
    {
     "data": {
      "text/plain": [
       "array([0, 1, 4, 9])"
      ]
     },
     "execution_count": 28,
     "metadata": {},
     "output_type": "execute_result"
    }
   ],
   "source": [
    "b**2"
   ]
  },
  {
   "cell_type": "code",
   "execution_count": 29,
   "metadata": {
    "collapsed": false,
    "deletable": true,
    "editable": true
   },
   "outputs": [
    {
     "data": {
      "text/plain": [
       "array([ 9.12945251, -9.88031624,  7.4511316 , -2.62374854])"
      ]
     },
     "execution_count": 29,
     "metadata": {},
     "output_type": "execute_result"
    }
   ],
   "source": [
    "10*np.sin(a)"
   ]
  },
  {
   "cell_type": "code",
   "execution_count": 30,
   "metadata": {
    "collapsed": false,
    "deletable": true,
    "editable": true
   },
   "outputs": [
    {
     "data": {
      "text/plain": [
       "array([ True,  True, False, False], dtype=bool)"
      ]
     },
     "execution_count": 30,
     "metadata": {},
     "output_type": "execute_result"
    }
   ],
   "source": [
    "a<35"
   ]
  },
  {
   "cell_type": "markdown",
   "metadata": {
    "deletable": true,
    "editable": true
   },
   "source": [
    "the product operator * operates elementwise in NumPy arrays"
   ]
  },
  {
   "cell_type": "code",
   "execution_count": 31,
   "metadata": {
    "collapsed": false,
    "deletable": true,
    "editable": true
   },
   "outputs": [
    {
     "data": {
      "text/plain": [
       "array([[2, 0],\n",
       "       [0, 4]])"
      ]
     },
     "execution_count": 31,
     "metadata": {},
     "output_type": "execute_result"
    }
   ],
   "source": [
    "A = np.array( [[1,1],[0,1]] )\n",
    "B = np.array( [[2,0],[3,4]] )\n",
    "A*B                         # elementwise product"
   ]
  },
  {
   "cell_type": "code",
   "execution_count": 32,
   "metadata": {
    "collapsed": false,
    "deletable": true,
    "editable": true
   },
   "outputs": [
    {
     "data": {
      "text/plain": [
       "array([[5, 4],\n",
       "       [3, 4]])"
      ]
     },
     "execution_count": 32,
     "metadata": {},
     "output_type": "execute_result"
    }
   ],
   "source": [
    "A.dot(B)                    # matrix product"
   ]
  },
  {
   "cell_type": "code",
   "execution_count": 33,
   "metadata": {
    "collapsed": false,
    "deletable": true,
    "editable": true
   },
   "outputs": [
    {
     "data": {
      "text/plain": [
       "array([[5, 4],\n",
       "       [3, 4]])"
      ]
     },
     "execution_count": 33,
     "metadata": {},
     "output_type": "execute_result"
    }
   ],
   "source": [
    "np.dot(A, B)           # another matrix product"
   ]
  },
  {
   "cell_type": "markdown",
   "metadata": {
    "deletable": true,
    "editable": true
   },
   "source": [
    "+= and *=, act in place to modify an existing array rather than create a new one."
   ]
  },
  {
   "cell_type": "code",
   "execution_count": 34,
   "metadata": {
    "collapsed": false,
    "deletable": true,
    "editable": true
   },
   "outputs": [
    {
     "name": "stdout",
     "output_type": "stream",
     "text": [
      "[[1 1 1]\n",
      " [1 1 1]]\n",
      "[[ 0.94926871  0.53361664  0.90853382]\n",
      " [ 0.2774341   0.98807443  0.38918854]]\n"
     ]
    }
   ],
   "source": [
    "a = np.ones((2,3), dtype=int)\n",
    "b = np.random.random((2,3))\n",
    "print(a,b, sep='\\n')"
   ]
  },
  {
   "cell_type": "code",
   "execution_count": 35,
   "metadata": {
    "collapsed": false,
    "deletable": true,
    "editable": true
   },
   "outputs": [
    {
     "data": {
      "text/plain": [
       "array([[3, 3, 3],\n",
       "       [3, 3, 3]])"
      ]
     },
     "execution_count": 35,
     "metadata": {},
     "output_type": "execute_result"
    }
   ],
   "source": [
    "a *= 3\n",
    "a"
   ]
  },
  {
   "cell_type": "code",
   "execution_count": 36,
   "metadata": {
    "collapsed": false,
    "deletable": true,
    "editable": true
   },
   "outputs": [
    {
     "data": {
      "text/plain": [
       "array([[ 3.94926871,  3.53361664,  3.90853382],\n",
       "       [ 3.2774341 ,  3.98807443,  3.38918854]])"
      ]
     },
     "execution_count": 36,
     "metadata": {},
     "output_type": "execute_result"
    }
   ],
   "source": [
    "b += a\n",
    "b"
   ]
  },
  {
   "cell_type": "markdown",
   "metadata": {
    "deletable": true,
    "editable": true
   },
   "source": [
    "When operating with arrays of different types, the type of the resulting array corresponds to the more general or precise one (a behavior known as upcasting)."
   ]
  },
  {
   "cell_type": "code",
   "execution_count": 37,
   "metadata": {
    "collapsed": false,
    "deletable": true,
    "editable": true
   },
   "outputs": [
    {
     "data": {
      "text/plain": [
       "array([ 1.        ,  2.57079633,  4.14159265])"
      ]
     },
     "execution_count": 37,
     "metadata": {},
     "output_type": "execute_result"
    }
   ],
   "source": [
    "a = np.ones(3, dtype=np.int32)\n",
    "b = np.linspace(0,pi,3)\n",
    "b.dtype.name\n",
    "c = a+b\n",
    "c"
   ]
  },
  {
   "cell_type": "code",
   "execution_count": 38,
   "metadata": {
    "collapsed": false,
    "deletable": true,
    "editable": true
   },
   "outputs": [
    {
     "data": {
      "text/plain": [
       "'float64'"
      ]
     },
     "execution_count": 38,
     "metadata": {},
     "output_type": "execute_result"
    }
   ],
   "source": [
    "c.dtype.name"
   ]
  },
  {
   "cell_type": "markdown",
   "metadata": {
    "deletable": true,
    "editable": true
   },
   "source": [
    "# References\n",
    "\n",
    "https://docs.scipy.org/doc/numpy-dev/user/quickstart.html"
   ]
  },
  {
   "cell_type": "code",
   "execution_count": null,
   "metadata": {
    "collapsed": true,
    "deletable": true,
    "editable": true
   },
   "outputs": [],
   "source": []
  }
 ],
 "metadata": {
  "kernelspec": {
   "display_name": "Python 3",
   "language": "python",
   "name": "python3"
  },
  "language_info": {
   "codemirror_mode": {
    "name": "ipython",
    "version": 3
   },
   "file_extension": ".py",
   "mimetype": "text/x-python",
   "name": "python",
   "nbconvert_exporter": "python",
   "pygments_lexer": "ipython3",
   "version": "3.6.0"
  }
 },
 "nbformat": 4,
 "nbformat_minor": 2
}
